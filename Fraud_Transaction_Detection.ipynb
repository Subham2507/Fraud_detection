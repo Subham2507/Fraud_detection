{
  "cells": [
    {
      "cell_type": "markdown",
      "id": "4372487d",
      "metadata": {
        "id": "4372487d"
      },
      "source": [
        "## Fraud Transaction Detection\n",
        "In this Jupyter Notebook, we delve into the realm of fraud transaction detection, a critical aspect of ensuring the security and integrity of financial systems.And it serves as a comprehensive guide to understanding and implementing fraud detection in a real-world context, combining data exploration, machine learning, and practical strategies for fraud prevention."
      ]
    },
    {
      "cell_type": "code",
      "execution_count": 1,
      "id": "ee44e43b",
      "metadata": {
        "id": "ee44e43b"
      },
      "outputs": [],
      "source": [
        "import pandas as pd\n",
        "import numpy as np\n",
        "import missingno as msno\n",
        "import matplotlib.pyplot as plt\n",
        "import seaborn as sns\n",
        "import warnings\n",
        "warnings.filterwarnings('ignore')"
      ]
    },
    {
      "cell_type": "code",
      "source": [
        "from google.colab import drive\n",
        "drive.mount('/content/drive')"
      ],
      "metadata": {
        "colab": {
          "base_uri": "https://localhost:8080/"
        },
        "id": "KyJaf2-26pDj",
        "outputId": "e572eff4-cfbf-4b19-9153-e22aa4e00bf0"
      },
      "id": "KyJaf2-26pDj",
      "execution_count": 2,
      "outputs": [
        {
          "output_type": "stream",
          "name": "stdout",
          "text": [
            "Mounted at /content/drive\n"
          ]
        }
      ]
    },
    {
      "cell_type": "code",
      "source": [
        "file_path = '/content/drive/My Drive/Fraud/Fraud.csv'\n",
        "\n",
        "# Read the CSV file into a DataFrame\n",
        "df = pd.read_csv(file_path)"
      ],
      "metadata": {
        "id": "ukjLBNET65Mr"
      },
      "id": "ukjLBNET65Mr",
      "execution_count": 3,
      "outputs": []
    },
    {
      "cell_type": "code",
      "execution_count": 5,
      "id": "be90b67b",
      "metadata": {
        "colab": {
          "base_uri": "https://localhost:8080/",
          "height": 206
        },
        "id": "be90b67b",
        "outputId": "2baca82e-16bf-462f-df5e-7cc5e5c46016"
      },
      "outputs": [
        {
          "output_type": "execute_result",
          "data": {
            "text/plain": [
              "   step      type    amount     nameOrig  oldbalanceOrg  newbalanceOrig  \\\n",
              "0     1   PAYMENT   9839.64  C1231006815       170136.0       160296.36   \n",
              "1     1   PAYMENT   1864.28  C1666544295        21249.0        19384.72   \n",
              "2     1  TRANSFER    181.00  C1305486145          181.0            0.00   \n",
              "3     1  CASH_OUT    181.00   C840083671          181.0            0.00   \n",
              "4     1   PAYMENT  11668.14  C2048537720        41554.0        29885.86   \n",
              "\n",
              "      nameDest  oldbalanceDest  newbalanceDest  isFraud  isFlaggedFraud  \n",
              "0  M1979787155             0.0             0.0        0               0  \n",
              "1  M2044282225             0.0             0.0        0               0  \n",
              "2   C553264065             0.0             0.0        1               0  \n",
              "3    C38997010         21182.0             0.0        1               0  \n",
              "4  M1230701703             0.0             0.0        0               0  "
            ],
            "text/html": [
              "\n",
              "  <div id=\"df-f38010d2-4c15-47d4-bec8-5fa2512b7cf2\" class=\"colab-df-container\">\n",
              "    <div>\n",
              "<style scoped>\n",
              "    .dataframe tbody tr th:only-of-type {\n",
              "        vertical-align: middle;\n",
              "    }\n",
              "\n",
              "    .dataframe tbody tr th {\n",
              "        vertical-align: top;\n",
              "    }\n",
              "\n",
              "    .dataframe thead th {\n",
              "        text-align: right;\n",
              "    }\n",
              "</style>\n",
              "<table border=\"1\" class=\"dataframe\">\n",
              "  <thead>\n",
              "    <tr style=\"text-align: right;\">\n",
              "      <th></th>\n",
              "      <th>step</th>\n",
              "      <th>type</th>\n",
              "      <th>amount</th>\n",
              "      <th>nameOrig</th>\n",
              "      <th>oldbalanceOrg</th>\n",
              "      <th>newbalanceOrig</th>\n",
              "      <th>nameDest</th>\n",
              "      <th>oldbalanceDest</th>\n",
              "      <th>newbalanceDest</th>\n",
              "      <th>isFraud</th>\n",
              "      <th>isFlaggedFraud</th>\n",
              "    </tr>\n",
              "  </thead>\n",
              "  <tbody>\n",
              "    <tr>\n",
              "      <th>0</th>\n",
              "      <td>1</td>\n",
              "      <td>PAYMENT</td>\n",
              "      <td>9839.64</td>\n",
              "      <td>C1231006815</td>\n",
              "      <td>170136.0</td>\n",
              "      <td>160296.36</td>\n",
              "      <td>M1979787155</td>\n",
              "      <td>0.0</td>\n",
              "      <td>0.0</td>\n",
              "      <td>0</td>\n",
              "      <td>0</td>\n",
              "    </tr>\n",
              "    <tr>\n",
              "      <th>1</th>\n",
              "      <td>1</td>\n",
              "      <td>PAYMENT</td>\n",
              "      <td>1864.28</td>\n",
              "      <td>C1666544295</td>\n",
              "      <td>21249.0</td>\n",
              "      <td>19384.72</td>\n",
              "      <td>M2044282225</td>\n",
              "      <td>0.0</td>\n",
              "      <td>0.0</td>\n",
              "      <td>0</td>\n",
              "      <td>0</td>\n",
              "    </tr>\n",
              "    <tr>\n",
              "      <th>2</th>\n",
              "      <td>1</td>\n",
              "      <td>TRANSFER</td>\n",
              "      <td>181.00</td>\n",
              "      <td>C1305486145</td>\n",
              "      <td>181.0</td>\n",
              "      <td>0.00</td>\n",
              "      <td>C553264065</td>\n",
              "      <td>0.0</td>\n",
              "      <td>0.0</td>\n",
              "      <td>1</td>\n",
              "      <td>0</td>\n",
              "    </tr>\n",
              "    <tr>\n",
              "      <th>3</th>\n",
              "      <td>1</td>\n",
              "      <td>CASH_OUT</td>\n",
              "      <td>181.00</td>\n",
              "      <td>C840083671</td>\n",
              "      <td>181.0</td>\n",
              "      <td>0.00</td>\n",
              "      <td>C38997010</td>\n",
              "      <td>21182.0</td>\n",
              "      <td>0.0</td>\n",
              "      <td>1</td>\n",
              "      <td>0</td>\n",
              "    </tr>\n",
              "    <tr>\n",
              "      <th>4</th>\n",
              "      <td>1</td>\n",
              "      <td>PAYMENT</td>\n",
              "      <td>11668.14</td>\n",
              "      <td>C2048537720</td>\n",
              "      <td>41554.0</td>\n",
              "      <td>29885.86</td>\n",
              "      <td>M1230701703</td>\n",
              "      <td>0.0</td>\n",
              "      <td>0.0</td>\n",
              "      <td>0</td>\n",
              "      <td>0</td>\n",
              "    </tr>\n",
              "  </tbody>\n",
              "</table>\n",
              "</div>\n",
              "    <div class=\"colab-df-buttons\">\n",
              "\n",
              "  <div class=\"colab-df-container\">\n",
              "    <button class=\"colab-df-convert\" onclick=\"convertToInteractive('df-f38010d2-4c15-47d4-bec8-5fa2512b7cf2')\"\n",
              "            title=\"Convert this dataframe to an interactive table.\"\n",
              "            style=\"display:none;\">\n",
              "\n",
              "  <svg xmlns=\"http://www.w3.org/2000/svg\" height=\"24px\" viewBox=\"0 -960 960 960\">\n",
              "    <path d=\"M120-120v-720h720v720H120Zm60-500h600v-160H180v160Zm220 220h160v-160H400v160Zm0 220h160v-160H400v160ZM180-400h160v-160H180v160Zm440 0h160v-160H620v160ZM180-180h160v-160H180v160Zm440 0h160v-160H620v160Z\"/>\n",
              "  </svg>\n",
              "    </button>\n",
              "\n",
              "  <style>\n",
              "    .colab-df-container {\n",
              "      display:flex;\n",
              "      gap: 12px;\n",
              "    }\n",
              "\n",
              "    .colab-df-convert {\n",
              "      background-color: #E8F0FE;\n",
              "      border: none;\n",
              "      border-radius: 50%;\n",
              "      cursor: pointer;\n",
              "      display: none;\n",
              "      fill: #1967D2;\n",
              "      height: 32px;\n",
              "      padding: 0 0 0 0;\n",
              "      width: 32px;\n",
              "    }\n",
              "\n",
              "    .colab-df-convert:hover {\n",
              "      background-color: #E2EBFA;\n",
              "      box-shadow: 0px 1px 2px rgba(60, 64, 67, 0.3), 0px 1px 3px 1px rgba(60, 64, 67, 0.15);\n",
              "      fill: #174EA6;\n",
              "    }\n",
              "\n",
              "    .colab-df-buttons div {\n",
              "      margin-bottom: 4px;\n",
              "    }\n",
              "\n",
              "    [theme=dark] .colab-df-convert {\n",
              "      background-color: #3B4455;\n",
              "      fill: #D2E3FC;\n",
              "    }\n",
              "\n",
              "    [theme=dark] .colab-df-convert:hover {\n",
              "      background-color: #434B5C;\n",
              "      box-shadow: 0px 1px 3px 1px rgba(0, 0, 0, 0.15);\n",
              "      filter: drop-shadow(0px 1px 2px rgba(0, 0, 0, 0.3));\n",
              "      fill: #FFFFFF;\n",
              "    }\n",
              "  </style>\n",
              "\n",
              "    <script>\n",
              "      const buttonEl =\n",
              "        document.querySelector('#df-f38010d2-4c15-47d4-bec8-5fa2512b7cf2 button.colab-df-convert');\n",
              "      buttonEl.style.display =\n",
              "        google.colab.kernel.accessAllowed ? 'block' : 'none';\n",
              "\n",
              "      async function convertToInteractive(key) {\n",
              "        const element = document.querySelector('#df-f38010d2-4c15-47d4-bec8-5fa2512b7cf2');\n",
              "        const dataTable =\n",
              "          await google.colab.kernel.invokeFunction('convertToInteractive',\n",
              "                                                    [key], {});\n",
              "        if (!dataTable) return;\n",
              "\n",
              "        const docLinkHtml = 'Like what you see? Visit the ' +\n",
              "          '<a target=\"_blank\" href=https://colab.research.google.com/notebooks/data_table.ipynb>data table notebook</a>'\n",
              "          + ' to learn more about interactive tables.';\n",
              "        element.innerHTML = '';\n",
              "        dataTable['output_type'] = 'display_data';\n",
              "        await google.colab.output.renderOutput(dataTable, element);\n",
              "        const docLink = document.createElement('div');\n",
              "        docLink.innerHTML = docLinkHtml;\n",
              "        element.appendChild(docLink);\n",
              "      }\n",
              "    </script>\n",
              "  </div>\n",
              "\n",
              "\n",
              "<div id=\"df-1db9ddf6-7d4b-4f6c-a12c-28acc6aea6d2\">\n",
              "  <button class=\"colab-df-quickchart\" onclick=\"quickchart('df-1db9ddf6-7d4b-4f6c-a12c-28acc6aea6d2')\"\n",
              "            title=\"Suggest charts.\"\n",
              "            style=\"display:none;\">\n",
              "\n",
              "<svg xmlns=\"http://www.w3.org/2000/svg\" height=\"24px\"viewBox=\"0 0 24 24\"\n",
              "     width=\"24px\">\n",
              "    <g>\n",
              "        <path d=\"M19 3H5c-1.1 0-2 .9-2 2v14c0 1.1.9 2 2 2h14c1.1 0 2-.9 2-2V5c0-1.1-.9-2-2-2zM9 17H7v-7h2v7zm4 0h-2V7h2v10zm4 0h-2v-4h2v4z\"/>\n",
              "    </g>\n",
              "</svg>\n",
              "  </button>\n",
              "\n",
              "<style>\n",
              "  .colab-df-quickchart {\n",
              "      --bg-color: #E8F0FE;\n",
              "      --fill-color: #1967D2;\n",
              "      --hover-bg-color: #E2EBFA;\n",
              "      --hover-fill-color: #174EA6;\n",
              "      --disabled-fill-color: #AAA;\n",
              "      --disabled-bg-color: #DDD;\n",
              "  }\n",
              "\n",
              "  [theme=dark] .colab-df-quickchart {\n",
              "      --bg-color: #3B4455;\n",
              "      --fill-color: #D2E3FC;\n",
              "      --hover-bg-color: #434B5C;\n",
              "      --hover-fill-color: #FFFFFF;\n",
              "      --disabled-bg-color: #3B4455;\n",
              "      --disabled-fill-color: #666;\n",
              "  }\n",
              "\n",
              "  .colab-df-quickchart {\n",
              "    background-color: var(--bg-color);\n",
              "    border: none;\n",
              "    border-radius: 50%;\n",
              "    cursor: pointer;\n",
              "    display: none;\n",
              "    fill: var(--fill-color);\n",
              "    height: 32px;\n",
              "    padding: 0;\n",
              "    width: 32px;\n",
              "  }\n",
              "\n",
              "  .colab-df-quickchart:hover {\n",
              "    background-color: var(--hover-bg-color);\n",
              "    box-shadow: 0 1px 2px rgba(60, 64, 67, 0.3), 0 1px 3px 1px rgba(60, 64, 67, 0.15);\n",
              "    fill: var(--button-hover-fill-color);\n",
              "  }\n",
              "\n",
              "  .colab-df-quickchart-complete:disabled,\n",
              "  .colab-df-quickchart-complete:disabled:hover {\n",
              "    background-color: var(--disabled-bg-color);\n",
              "    fill: var(--disabled-fill-color);\n",
              "    box-shadow: none;\n",
              "  }\n",
              "\n",
              "  .colab-df-spinner {\n",
              "    border: 2px solid var(--fill-color);\n",
              "    border-color: transparent;\n",
              "    border-bottom-color: var(--fill-color);\n",
              "    animation:\n",
              "      spin 1s steps(1) infinite;\n",
              "  }\n",
              "\n",
              "  @keyframes spin {\n",
              "    0% {\n",
              "      border-color: transparent;\n",
              "      border-bottom-color: var(--fill-color);\n",
              "      border-left-color: var(--fill-color);\n",
              "    }\n",
              "    20% {\n",
              "      border-color: transparent;\n",
              "      border-left-color: var(--fill-color);\n",
              "      border-top-color: var(--fill-color);\n",
              "    }\n",
              "    30% {\n",
              "      border-color: transparent;\n",
              "      border-left-color: var(--fill-color);\n",
              "      border-top-color: var(--fill-color);\n",
              "      border-right-color: var(--fill-color);\n",
              "    }\n",
              "    40% {\n",
              "      border-color: transparent;\n",
              "      border-right-color: var(--fill-color);\n",
              "      border-top-color: var(--fill-color);\n",
              "    }\n",
              "    60% {\n",
              "      border-color: transparent;\n",
              "      border-right-color: var(--fill-color);\n",
              "    }\n",
              "    80% {\n",
              "      border-color: transparent;\n",
              "      border-right-color: var(--fill-color);\n",
              "      border-bottom-color: var(--fill-color);\n",
              "    }\n",
              "    90% {\n",
              "      border-color: transparent;\n",
              "      border-bottom-color: var(--fill-color);\n",
              "    }\n",
              "  }\n",
              "</style>\n",
              "\n",
              "  <script>\n",
              "    async function quickchart(key) {\n",
              "      const quickchartButtonEl =\n",
              "        document.querySelector('#' + key + ' button');\n",
              "      quickchartButtonEl.disabled = true;  // To prevent multiple clicks.\n",
              "      quickchartButtonEl.classList.add('colab-df-spinner');\n",
              "      try {\n",
              "        const charts = await google.colab.kernel.invokeFunction(\n",
              "            'suggestCharts', [key], {});\n",
              "      } catch (error) {\n",
              "        console.error('Error during call to suggestCharts:', error);\n",
              "      }\n",
              "      quickchartButtonEl.classList.remove('colab-df-spinner');\n",
              "      quickchartButtonEl.classList.add('colab-df-quickchart-complete');\n",
              "    }\n",
              "    (() => {\n",
              "      let quickchartButtonEl =\n",
              "        document.querySelector('#df-1db9ddf6-7d4b-4f6c-a12c-28acc6aea6d2 button');\n",
              "      quickchartButtonEl.style.display =\n",
              "        google.colab.kernel.accessAllowed ? 'block' : 'none';\n",
              "    })();\n",
              "  </script>\n",
              "</div>\n",
              "    </div>\n",
              "  </div>\n"
            ]
          },
          "metadata": {},
          "execution_count": 5
        }
      ],
      "source": [
        "df.head()"
      ]
    },
    {
      "cell_type": "markdown",
      "id": "13ca5a1f",
      "metadata": {
        "id": "13ca5a1f"
      },
      "source": [
        "We don't need of customer who started the transaction and customer who is the recipient of the transaction as the would not make any sense in fraud detection. So we can drop *nameOrig* and *nameDest*."
      ]
    },
    {
      "cell_type": "code",
      "execution_count": 6,
      "id": "71840b2d",
      "metadata": {
        "id": "71840b2d"
      },
      "outputs": [],
      "source": [
        "df.drop(labels=['nameOrig','nameDest'],axis=1,inplace=True)"
      ]
    },
    {
      "cell_type": "markdown",
      "id": "e77df7ec",
      "metadata": {
        "id": "e77df7ec"
      },
      "source": [
        "We can make rename *newbalanceOrig* to *newbalanceOrg* for making same pattern."
      ]
    },
    {
      "cell_type": "code",
      "execution_count": 7,
      "id": "17265cf6",
      "metadata": {
        "id": "17265cf6"
      },
      "outputs": [],
      "source": [
        "df.rename(columns={'newbalanceOrig':'newbalanceOrg'}, inplace= True)"
      ]
    },
    {
      "cell_type": "code",
      "execution_count": 8,
      "id": "7aaaf6d2",
      "metadata": {
        "colab": {
          "base_uri": "https://localhost:8080/"
        },
        "id": "7aaaf6d2",
        "outputId": "c6489ac5-0d94-4882-cfcc-afc8af5ea53e"
      },
      "outputs": [
        {
          "output_type": "stream",
          "name": "stdout",
          "text": [
            "<class 'pandas.core.frame.DataFrame'>\n",
            "RangeIndex: 6362620 entries, 0 to 6362619\n",
            "Data columns (total 9 columns):\n",
            " #   Column          Dtype  \n",
            "---  ------          -----  \n",
            " 0   step            int64  \n",
            " 1   type            object \n",
            " 2   amount          float64\n",
            " 3   oldbalanceOrg   float64\n",
            " 4   newbalanceOrg   float64\n",
            " 5   oldbalanceDest  float64\n",
            " 6   newbalanceDest  float64\n",
            " 7   isFraud         int64  \n",
            " 8   isFlaggedFraud  int64  \n",
            "dtypes: float64(5), int64(3), object(1)\n",
            "memory usage: 436.9+ MB\n"
          ]
        }
      ],
      "source": [
        "df.info()"
      ]
    },
    {
      "cell_type": "code",
      "execution_count": 9,
      "id": "c0e72abb",
      "metadata": {
        "colab": {
          "base_uri": "https://localhost:8080/"
        },
        "id": "c0e72abb",
        "outputId": "612d94a3-d6b5-46b8-cda3-313af5b57973"
      },
      "outputs": [
        {
          "output_type": "execute_result",
          "data": {
            "text/plain": [
              "(6362620, 9)"
            ]
          },
          "metadata": {},
          "execution_count": 9
        }
      ],
      "source": [
        "df.shape"
      ]
    },
    {
      "cell_type": "markdown",
      "id": "9e34de86",
      "metadata": {
        "id": "9e34de86"
      },
      "source": [
        "In the data there is 6362620 rows, as well as 9 features. Here our target variable is **isFraud** and this is the actual fruad status of the transaction made by someone.We use some threshold value to the transction to make a indicator **isFlaggedFraud**."
      ]
    },
    {
      "cell_type": "code",
      "execution_count": 10,
      "id": "3630ecdb",
      "metadata": {
        "colab": {
          "base_uri": "https://localhost:8080/"
        },
        "id": "3630ecdb",
        "outputId": "134ce25b-d156-4e1a-8d0a-f21d944f60da"
      },
      "outputs": [
        {
          "output_type": "execute_result",
          "data": {
            "text/plain": [
              "step              0\n",
              "type              0\n",
              "amount            0\n",
              "oldbalanceOrg     0\n",
              "newbalanceOrg     0\n",
              "oldbalanceDest    0\n",
              "newbalanceDest    0\n",
              "isFraud           0\n",
              "isFlaggedFraud    0\n",
              "dtype: int64"
            ]
          },
          "metadata": {},
          "execution_count": 10
        }
      ],
      "source": [
        "df.isnull().sum()"
      ]
    },
    {
      "cell_type": "markdown",
      "id": "70dead7b",
      "metadata": {
        "id": "70dead7b"
      },
      "source": [
        "As we can easily see that there is no null value."
      ]
    },
    {
      "cell_type": "code",
      "execution_count": 11,
      "id": "7ec3cb1e",
      "metadata": {
        "colab": {
          "base_uri": "https://localhost:8080/",
          "height": 1000
        },
        "id": "7ec3cb1e",
        "outputId": "00fe26ab-ecd7-4451-8a64-85ee60ff9b92"
      },
      "outputs": [
        {
          "output_type": "execute_result",
          "data": {
            "text/plain": [
              "<seaborn.matrix.ClusterGrid at 0x7951cefc6950>"
            ]
          },
          "metadata": {},
          "execution_count": 11
        },
        {
          "output_type": "display_data",
          "data": {
            "text/plain": [
              "<Figure size 1000x1000 with 4 Axes>"
            ],
            "image/png": "[encoded data removed]"
          },
          "metadata": {}
        }
      ],
      "source": [
        "sns.clustermap(df.corr(),vmin=-1,vmax=1,annot=True)"
      ]
    },
    {
      "cell_type": "markdown",
      "id": "4f2a1f93",
      "metadata": {
        "id": "4f2a1f93"
      },
      "source": [
        "As from the cluster map it is clear that:\n",
        "- oldbalanceOrg and newbalanceOrg is highly corelated.\n",
        "- oldbalanceDest and newbalanceDest is also highly corelated.\n",
        "\n",
        "\n",
        "There is not much co-relation between other features. Then what we can do is find out the heatmap relation of fraud and non-fraud type of transaction."
      ]
    },
    {
      "cell_type": "code",
      "execution_count": 12,
      "id": "c035607e",
      "metadata": {
        "id": "c035607e"
      },
      "outputs": [],
      "source": [
        "df_fraud=df.loc[df.isFraud==1]\n",
        "df_nonfraud=df.loc[df.isFraud==0]"
      ]
    },
    {
      "cell_type": "code",
      "execution_count": 13,
      "id": "176e1dae",
      "metadata": {
        "colab": {
          "base_uri": "https://localhost:8080/"
        },
        "id": "176e1dae",
        "outputId": "991125fe-0350-45b4-c323-b7978d6cd81f"
      },
      "outputs": [
        {
          "output_type": "stream",
          "name": "stdout",
          "text": [
            "Number of Fraud happening :8213\n",
            " Number of flagged as Fraud: 16\n"
          ]
        }
      ],
      "source": [
        "print(\"Number of Fraud happening :{}\\n Number of flagged as Fraud: {}\".format(df_fraud.shape[0],df_fraud.loc[df_fraud.isFlaggedFraud==1].shape[0]))"
      ]
    },
    {
      "cell_type": "code",
      "execution_count": 14,
      "id": "8a328831",
      "metadata": {
        "colab": {
          "base_uri": "https://localhost:8080/"
        },
        "id": "8a328831",
        "outputId": "6c887e8d-a7e7-47da-a15d-5f5ce6dc7145"
      },
      "outputs": [
        {
          "output_type": "stream",
          "name": "stdout",
          "text": [
            "Number of transaction which is not-Fraud :6354407\n",
            " But Number of flagged as Fraud: 0\n"
          ]
        }
      ],
      "source": [
        "print(\"Number of transaction which is not-Fraud :{}\\n But Number of flagged as Fraud: {}\".format(df_nonfraud.shape[0],df_nonfraud.loc[df_nonfraud.isFlaggedFraud==1].shape[0]))"
      ]
    },
    {
      "cell_type": "markdown",
      "id": "f51c58f1",
      "metadata": {
        "id": "f51c58f1"
      },
      "source": [
        "If we focus on the **isFraud and isFlaggedFraud** there is a connection between them.When system raises a red flag (isFlaggedFraud), it's often means there's something wrong with the transaction(isFraud). So **isFlaggedFraud** is not making any sense in ml model we can drop it."
      ]
    },
    {
      "cell_type": "code",
      "execution_count": 15,
      "id": "32ed4881",
      "metadata": {
        "id": "32ed4881"
      },
      "outputs": [],
      "source": [
        "df=df.drop('isFlaggedFraud',axis=1)"
      ]
    },
    {
      "cell_type": "code",
      "execution_count": 16,
      "id": "b9f640d7",
      "metadata": {
        "colab": {
          "base_uri": "https://localhost:8080/"
        },
        "id": "b9f640d7",
        "outputId": "5d2ecd41-f5fe-4cfb-e696-c8d5e1f8ac57"
      },
      "outputs": [
        {
          "output_type": "stream",
          "name": "stdout",
          "text": [
            "<class 'pandas.core.frame.DataFrame'>\n",
            "RangeIndex: 6362620 entries, 0 to 6362619\n",
            "Data columns (total 8 columns):\n",
            " #   Column          Dtype  \n",
            "---  ------          -----  \n",
            " 0   step            int64  \n",
            " 1   type            object \n",
            " 2   amount          float64\n",
            " 3   oldbalanceOrg   float64\n",
            " 4   newbalanceOrg   float64\n",
            " 5   oldbalanceDest  float64\n",
            " 6   newbalanceDest  float64\n",
            " 7   isFraud         int64  \n",
            "dtypes: float64(5), int64(2), object(1)\n",
            "memory usage: 388.3+ MB\n"
          ]
        }
      ],
      "source": [
        "df.info()"
      ]
    },
    {
      "cell_type": "code",
      "execution_count": 17,
      "id": "55ddbc54",
      "metadata": {
        "colab": {
          "base_uri": "https://localhost:8080/",
          "height": 482
        },
        "id": "55ddbc54",
        "outputId": "0e89499d-9c26-4a74-a528-78e33d74be99"
      },
      "outputs": [
        {
          "output_type": "execute_result",
          "data": {
            "text/plain": [
              "<Axes: xlabel='type', ylabel='amount'>"
            ]
          },
          "metadata": {},
          "execution_count": 17
        },
        {
          "output_type": "display_data",
          "data": {
            "text/plain": [
              "<Figure size 640x480 with 1 Axes>"
            ],
            "image/png": "[encoded data removed]"
          },
          "metadata": {}
        }
      ],
      "source": [
        "df1=df.groupby('type').amount.sum().reset_index()\n",
        "sns.barplot(data=df1, x=\"type\", y=\"amount\")"
      ]
    },
    {
      "cell_type": "code",
      "execution_count": 18,
      "id": "0f5c0483",
      "metadata": {
        "colab": {
          "base_uri": "https://localhost:8080/"
        },
        "id": "0f5c0483",
        "outputId": "6225ea93-4126-4961-eabe-e160c3f2af68"
      },
      "outputs": [
        {
          "output_type": "execute_result",
          "data": {
            "text/plain": [
              "array(['TRANSFER', 'CASH_OUT'], dtype=object)"
            ]
          },
          "metadata": {},
          "execution_count": 18
        }
      ],
      "source": [
        "df.loc[df.isFraud==1].type.unique()"
      ]
    },
    {
      "cell_type": "markdown",
      "id": "16c9eec3",
      "metadata": {
        "id": "16c9eec3"
      },
      "source": [
        "From the above two things we can see that **CASH_OUT and TRANSFER** is most used transaction mode and also fraud is happening from both of them.Then we need to focus on this type of transaction."
      ]
    },
    {
      "cell_type": "markdown",
      "id": "ecd72ca5",
      "metadata": {
        "id": "ecd72ca5"
      },
      "source": [
        "Certainly, for the task of proactive fraud detection, a Random Forest classification model can be a suitable choice. It offers a robust and versatile approach to handling classification problems.A Random Forest is like a group of decision trees working together to make predictions. Each tree in the forest independently evaluates data and collectively provides a more accurate outcome. It's known for its capability to handle complex relationships in data and is well-suited for classification tasks like identifying fraudulent transactions."
      ]
    },
    {
      "cell_type": "code",
      "execution_count": 19,
      "id": "3754b7f7",
      "metadata": {
        "colab": {
          "base_uri": "https://localhost:8080/"
        },
        "id": "3754b7f7",
        "outputId": "302ca87a-94b1-4634-9cce-0606ee56eeb5"
      },
      "outputs": [
        {
          "output_type": "execute_result",
          "data": {
            "text/plain": [
              "CASH_OUT    2237500\n",
              "PAYMENT     2151495\n",
              "CASH_IN     1399284\n",
              "TRANSFER     532909\n",
              "DEBIT         41432\n",
              "Name: type, dtype: int64"
            ]
          },
          "metadata": {},
          "execution_count": 19
        }
      ],
      "source": [
        "df.type.value_counts()"
      ]
    },
    {
      "cell_type": "code",
      "execution_count": 20,
      "id": "2d524212",
      "metadata": {
        "colab": {
          "base_uri": "https://localhost:8080/"
        },
        "id": "2d524212",
        "outputId": "61c342c4-f5fe-484f-ac48-f5efb8017fa4"
      },
      "outputs": [
        {
          "output_type": "execute_result",
          "data": {
            "text/plain": [
              "1    2237500\n",
              "3    2151495\n",
              "0    1399284\n",
              "4     532909\n",
              "2      41432\n",
              "Name: type, dtype: int64"
            ]
          },
          "metadata": {},
          "execution_count": 20
        }
      ],
      "source": [
        "from sklearn.preprocessing import LabelEncoder\n",
        "\n",
        "le = LabelEncoder()\n",
        "df.type = le.fit_transform(df.type)\n",
        "df.type.value_counts()"
      ]
    },
    {
      "cell_type": "code",
      "execution_count": 21,
      "id": "5fc2346b",
      "metadata": {
        "id": "5fc2346b"
      },
      "outputs": [],
      "source": [
        "X = df.drop('isFraud', axis=1)\n",
        "y = df['isFraud']"
      ]
    },
    {
      "cell_type": "code",
      "execution_count": 22,
      "id": "1697e6c1",
      "metadata": {
        "id": "1697e6c1"
      },
      "outputs": [],
      "source": [
        "from sklearn.model_selection import train_test_split\n",
        "from sklearn.metrics import average_precision_score\n",
        "from sklearn.ensemble import RandomForestClassifier"
      ]
    },
    {
      "cell_type": "code",
      "execution_count": 23,
      "id": "d1c74f11",
      "metadata": {
        "id": "d1c74f11"
      },
      "outputs": [],
      "source": [
        "X_train,X_test,y_train,y_test = train_test_split(X,y,test_size=0.30,random_state=42)"
      ]
    },
    {
      "cell_type": "code",
      "execution_count": 24,
      "id": "f9b4bfd6",
      "metadata": {
        "colab": {
          "base_uri": "https://localhost:8080/"
        },
        "id": "f9b4bfd6",
        "outputId": "87b0dd95-fd8b-4992-987d-51ebdd24e41f"
      },
      "outputs": [
        {
          "output_type": "stream",
          "name": "stdout",
          "text": [
            "0.7675753203155052\n"
          ]
        }
      ],
      "source": [
        "RF = RandomForestClassifier()\n",
        "\n",
        "RF.fit(X_train, y_train)\n",
        "y_p = RF.predict(X_test)\n",
        "print(average_precision_score(y_p, y_test))"
      ]
    },
    {
      "cell_type": "code",
      "source": [
        "!pip install scikit-plot"
      ],
      "metadata": {
        "colab": {
          "base_uri": "https://localhost:8080/"
        },
        "id": "BAisI4k2C8oK",
        "outputId": "9a31def2-d4a0-480a-9dc0-d938962cabf8"
      },
      "id": "BAisI4k2C8oK",
      "execution_count": 27,
      "outputs": [
        {
          "output_type": "stream",
          "name": "stdout",
          "text": [
            "Requirement already satisfied: scikit-plot in /usr/local/lib/python3.10/dist-packages (0.3.7)\n",
            "Requirement already satisfied: matplotlib>=1.4.0 in /usr/local/lib/python3.10/dist-packages (from scikit-plot) (3.7.1)\n",
            "Requirement already satisfied: scikit-learn>=0.18 in /usr/local/lib/python3.10/dist-packages (from scikit-plot) (1.2.2)\n",
            "Requirement already satisfied: scipy>=0.9 in /usr/local/lib/python3.10/dist-packages (from scikit-plot) (1.11.2)\n",
            "Requirement already satisfied: joblib>=0.10 in /usr/local/lib/python3.10/dist-packages (from scikit-plot) (1.3.2)\n",
            "Requirement already satisfied: contourpy>=1.0.1 in /usr/local/lib/python3.10/dist-packages (from matplotlib>=1.4.0->scikit-plot) (1.1.0)\n",
            "Requirement already satisfied: cycler>=0.10 in /usr/local/lib/python3.10/dist-packages (from matplotlib>=1.4.0->scikit-plot) (0.11.0)\n",
            "Requirement already satisfied: fonttools>=4.22.0 in /usr/local/lib/python3.10/dist-packages (from matplotlib>=1.4.0->scikit-plot) (4.42.1)\n",
            "Requirement already satisfied: kiwisolver>=1.0.1 in /usr/local/lib/python3.10/dist-packages (from matplotlib>=1.4.0->scikit-plot) (1.4.5)\n",
            "Requirement already satisfied: numpy>=1.20 in /usr/local/lib/python3.10/dist-packages (from matplotlib>=1.4.0->scikit-plot) (1.23.5)\n",
            "Requirement already satisfied: packaging>=20.0 in /usr/local/lib/python3.10/dist-packages (from matplotlib>=1.4.0->scikit-plot) (23.1)\n",
            "Requirement already satisfied: pillow>=6.2.0 in /usr/local/lib/python3.10/dist-packages (from matplotlib>=1.4.0->scikit-plot) (9.4.0)\n",
            "Requirement already satisfied: pyparsing>=2.3.1 in /usr/local/lib/python3.10/dist-packages (from matplotlib>=1.4.0->scikit-plot) (3.1.1)\n",
            "Requirement already satisfied: python-dateutil>=2.7 in /usr/local/lib/python3.10/dist-packages (from matplotlib>=1.4.0->scikit-plot) (2.8.2)\n",
            "Requirement already satisfied: threadpoolctl>=2.0.0 in /usr/local/lib/python3.10/dist-packages (from scikit-learn>=0.18->scikit-plot) (3.2.0)\n",
            "Requirement already satisfied: six>=1.5 in /usr/local/lib/python3.10/dist-packages (from python-dateutil>=2.7->matplotlib>=1.4.0->scikit-plot) (1.16.0)\n"
          ]
        }
      ]
    },
    {
      "cell_type": "code",
      "source": [
        "import scikitplot as skplt\n",
        "from sklearn.metrics import confusion_matrix\n",
        "\n",
        "# Example confusion matrix (replace this with your actual values)\n",
        "cm = confusion_matrix(y_test, y_p)\n",
        "print(cm)\n",
        "# Create a confusion matrix plot\n",
        "skplt.metrics.plot_confusion_matrix(y_test, y_p, normalize=False)\n",
        "plt.show()"
      ],
      "metadata": {
        "colab": {
          "base_uri": "https://localhost:8080/",
          "height": 507
        },
        "id": "NbEF-7lnHmwP",
        "outputId": "0c1310fb-9321-4cc8-8262-26232f74458b"
      },
      "id": "NbEF-7lnHmwP",
      "execution_count": 28,
      "outputs": [
        {
          "output_type": "stream",
          "name": "stdout",
          "text": [
            "[[1906307      44]\n",
            " [    523    1912]]\n"
          ]
        },
        {
          "output_type": "display_data",
          "data": {
            "text/plain": [
              "<Figure size 640x480 with 2 Axes>"
            ],
            "image/png": "[encoded data removed]"
          },
          "metadata": {}
        }
      ]
    },
    {
      "cell_type": "markdown",
      "source": [],
      "metadata": {
        "id": "Pmlv8cIaPwQl"
      },
      "id": "Pmlv8cIaPwQl"
    },
    {
      "cell_type": "code",
      "source": [
        "from sklearn.metrics import classification_report\n",
        "print(classification_report(y_test,y_p))"
      ],
      "metadata": {
        "colab": {
          "base_uri": "https://localhost:8080/"
        },
        "id": "dkRoBcOJOea9",
        "outputId": "d3d2ed5a-1573-40ee-844a-85b01462ec0c"
      },
      "id": "dkRoBcOJOea9",
      "execution_count": 29,
      "outputs": [
        {
          "output_type": "stream",
          "name": "stdout",
          "text": [
            "              precision    recall  f1-score   support\n",
            "\n",
            "           0       1.00      1.00      1.00   1906351\n",
            "           1       0.98      0.79      0.87      2435\n",
            "\n",
            "    accuracy                           1.00   1908786\n",
            "   macro avg       0.99      0.89      0.94   1908786\n",
            "weighted avg       1.00      1.00      1.00   1908786\n",
            "\n"
          ]
        }
      ]
    },
    {
      "cell_type": "markdown",
      "source": [
        "In our fraud detection project, we used a Random Forest model to identify fraudulent transactions. The classification report provides us with valuable insights into how well our model is performing.\n",
        "\n",
        "**Precision** measures how many of the transactions our model predicted as fraudulent were actually fraudulent. For non-fraudulent transactions (class 0), our model achieved a perfect precision score of 1.00, which means that when it predicted a transaction as non-fraudulent, it was correct every time. For fraudulent transactions (class 1), our model achieved a very high precision score of 0.98, indicating that 98% of the transactions it predicted as fraudulent were indeed fraudulent. This is crucial because it minimizes false alarms, reducing unnecessary actions.\n",
        "\n",
        "**Recall**, also known as sensitivity or true positive rate, measures how well our model identifies all actual fraudulent transactions. For non-fraudulent transactions (class 0), our model achieved a perfect recall score of 1.00, meaning it correctly identified all non-fraudulent transactions. However, for fraudulent transactions (class 1), our recall score is 0.79, indicating that our model successfully detected 79% of the actual fraudulent cases. While not perfect, this is still quite good and ensures we don't miss many fraudulent transactions.\n",
        "\n",
        "The **F1-Score** is a balanced metric that considers both precision and recall. For non-fraudulent transactions (class 0), it's a perfect 1.00, indicating a harmonious balance between precision and recall. For fraudulent transactions (class 1), the F1-score is 0.87, suggesting that our model strikes a good balance between correctly identifying fraudulent cases and minimizing false alarms.\n",
        "\n",
        "The **Support** values tell us the number of samples in each class in our test dataset. In this case, we have a large number of non-fraudulent transactions (1,906,351) and a smaller number of fraudulent transactions (2,435).\n",
        "\n",
        "The **Accuracy** score reflects the overall correctness of our model's predictions. With an accuracy of 1.00 (or 100%), our model performed exceptionally well in distinguishing between fraudulent and non-fraudulent transactions.\n",
        "\n",
        "The **Macro Average** provides an average summary across both classes. The macro average precision, recall, and F1-score are all close to 1.00, suggesting that our model performs well overall.\n",
        "\n",
        "The **Weighted Average** accounts for class imbalance, as we have many more non-fraudulent transactions than fraudulent ones. In this case, all the weighted average metrics are 1.00, indicating that our model handles the class imbalance effectively.\n",
        "\n",
        "In summary, our Random Forest model demonstrates strong performance in fraud detection. It achieves high precision, recall, and F1-score for both classes, indicating that it effectively identifies fraudulent transactions while keeping false alarms to a minimum. With an accuracy of 1.00, our model excels in distinguishing between genuine and fraudulent transactions, providing a robust solution for fraud detection."
      ],
      "metadata": {
        "id": "5_f9tVk6RTg9"
      },
      "id": "5_f9tVk6RTg9"
    },
    {
      "cell_type": "code",
      "source": [
        "plt.barh(X.columns, RF.feature_importances_)"
      ],
      "metadata": {
        "colab": {
          "base_uri": "https://localhost:8080/",
          "height": 447
        },
        "id": "2OYICv4GS4nz",
        "outputId": "48264f03-00f7-4ac7-cdb0-1adf89f9fda3"
      },
      "id": "2OYICv4GS4nz",
      "execution_count": 30,
      "outputs": [
        {
          "output_type": "execute_result",
          "data": {
            "text/plain": [
              "<BarContainer object of 7 artists>"
            ]
          },
          "metadata": {},
          "execution_count": 30
        },
        {
          "output_type": "display_data",
          "data": {
            "text/plain": [
              "<Figure size 640x480 with 1 Axes>"
            ],
            "image/png": "[encoded data removed]"
          },
          "metadata": {}
        }
      ]
    },
    {
      "cell_type": "markdown",
      "source": [
        "Here we can easily see which fearture is important for the model. **newbalanceDest and oldbalanceOrg** having much importance."
      ],
      "metadata": {
        "id": "kJgIzmd5VLaz"
      },
      "id": "kJgIzmd5VLaz"
    },
    {
      "cell_type": "markdown",
      "source": [
        "### What kind of prevention should be adopted while company update its infrastructure?\n",
        "\n",
        "\n",
        "*   As in the model we can see it is effective at minimizing false alarms(high precession for class1) it's important to focus on the false negative. To prevent these, we may introduce addition layer tothe security or fraud detection mechanism to catch any fraud missed.\n",
        "*   Anf addition to that we can update infrastructure to ensure that model is regularly update with new data, as we can find the fraud patterns.\n",
        "\n"
      ],
      "metadata": {
        "id": "n9iY-CP0WJ-4"
      },
      "id": "n9iY-CP0WJ-4"
    },
    {
      "cell_type": "markdown",
      "source": [
        "### Assuming these actions have been implemented, how would you determine if they work?\n",
        "\n",
        "\n",
        "\n",
        "*   Then we should continously monitor the model performence such as precision , recall and confusion matrix.\n",
        "*   We can establish one feedback loop which are going to fine tune the model and improves its performence\n",
        "*   We also can benchmark it. Analyze whether the prevention measures have reduced the company's losses due to fraud and if the cost of implementing these measures is justified.\n",
        "*    Gather feedback from relevant stakeholders, including fraud analysts and investigators, to assess the effectiveness of the prevention strategies from their perspective.\n",
        "\n"
      ],
      "metadata": {
        "id": "BwMP91r_W66g"
      },
      "id": "BwMP91r_W66g"
    }
  ],
  "metadata": {
    "kernelspec": {
      "display_name": "Python 3 (ipykernel)",
      "language": "python",
      "name": "python3"
    },
    "language_info": {
      "codemirror_mode": {
        "name": "ipython",
        "version": 3
      },
      "file_extension": ".py",
      "mimetype": "text/x-python",
      "name": "python",
      "nbconvert_exporter": "python",
      "pygments_lexer": "ipython3",
      "version": "3.10.9"
    },
    "colab": {
      "provenance": []
    }
  },
  "nbformat": 4,
  "nbformat_minor": 5
}